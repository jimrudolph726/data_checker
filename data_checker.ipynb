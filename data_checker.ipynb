{
 "cells": [
  {
   "cell_type": "code",
   "execution_count": 17,
   "id": "a51277e5",
   "metadata": {},
   "outputs": [],
   "source": [
    "import pandas as pd\n",
    "from datetime import datetime"
   ]
  },
  {
   "cell_type": "code",
   "execution_count": 91,
   "id": "7c063dd5",
   "metadata": {},
   "outputs": [
    {
     "name": "stdout",
     "output_type": "stream",
     "text": [
      "<class 'pandas.core.frame.DataFrame'>\n",
      "RangeIndex: 12 entries, 0 to 11\n",
      "Data columns (total 3 columns):\n",
      " #   Column        Non-Null Count  Dtype \n",
      "---  ------        --------------  ----- \n",
      " 0   station_name  12 non-null     object\n",
      " 1   station_no    12 non-null     object\n",
      " 2   ts_id         12 non-null     Int64 \n",
      "dtypes: Int64(1), object(2)\n",
      "memory usage: 432.0+ bytes\n"
     ]
    }
   ],
   "source": [
    "station_list = pd.read_csv('station_list.csv')\n",
    "# make station_list[\"ts_id\"] integer\n",
    "station_list[\"ts_id\"] = station_list[\"ts_id\"].astype(\"Int64\")\n",
    "station_list.info()"
   ]
  },
  {
   "cell_type": "code",
   "execution_count": 92,
   "id": "1c250477",
   "metadata": {},
   "outputs": [
    {
     "name": "stdout",
     "output_type": "stream",
     "text": [
      "2025-10-07 2025-07-07\n"
     ]
    }
   ],
   "source": [
    "today = datetime.today().strftime('%Y-%m-%d')\n",
    "three_months_ago = (datetime.today() - pd.DateOffset(months=3)).strftime('%Y-%m-%d')\n",
    "print(today, three_months_ago)"
   ]
  },
  {
   "cell_type": "code",
   "execution_count": null,
   "id": "b2e53ccd",
   "metadata": {},
   "outputs": [
    {
     "data": {
      "text/html": [
       "<div>\n",
       "<style scoped>\n",
       "    .dataframe tbody tr th:only-of-type {\n",
       "        vertical-align: middle;\n",
       "    }\n",
       "\n",
       "    .dataframe tbody tr th {\n",
       "        vertical-align: top;\n",
       "    }\n",
       "\n",
       "    .dataframe thead th {\n",
       "        text-align: right;\n",
       "    }\n",
       "</style>\n",
       "<table border=\"1\" class=\"dataframe\">\n",
       "  <thead>\n",
       "    <tr style=\"text-align: right;\">\n",
       "      <th></th>\n",
       "      <th>Station Name</th>\n",
       "      <th>Date</th>\n",
       "    </tr>\n",
       "  </thead>\n",
       "  <tbody>\n",
       "    <tr>\n",
       "      <th>0</th>\n",
       "      <td>East Kittsondale</td>\n",
       "      <td>2025-10-07 11:30:00</td>\n",
       "    </tr>\n",
       "    <tr>\n",
       "      <th>1</th>\n",
       "      <td>Villa Park Outlet</td>\n",
       "      <td>2025-10-07 11:30:00</td>\n",
       "    </tr>\n",
       "    <tr>\n",
       "      <th>2</th>\n",
       "      <td>Willow Reserve - Outlet</td>\n",
       "      <td>2025-10-06 11:24:00</td>\n",
       "    </tr>\n",
       "    <tr>\n",
       "      <th>3</th>\n",
       "      <td>AHUG Inlet</td>\n",
       "      <td>2025-10-07 11:15:00</td>\n",
       "    </tr>\n",
       "    <tr>\n",
       "      <th>4</th>\n",
       "      <td>CRWD Aldine Outlet</td>\n",
       "      <td>2025-10-07 11:15:00</td>\n",
       "    </tr>\n",
       "    <tr>\n",
       "      <th>5</th>\n",
       "      <td>B-Dale Outlet</td>\n",
       "      <td>2025-10-07 11:30:00</td>\n",
       "    </tr>\n",
       "    <tr>\n",
       "      <th>6</th>\n",
       "      <td>Como 3 | Como D</td>\n",
       "      <td>2025-09-22 13:45:00</td>\n",
       "    </tr>\n",
       "    <tr>\n",
       "      <th>7</th>\n",
       "      <td>Como 7 | Como B5</td>\n",
       "      <td>2025-10-07 11:15:00</td>\n",
       "    </tr>\n",
       "    <tr>\n",
       "      <th>8</th>\n",
       "      <td>Como B5 Outlet | Como B5</td>\n",
       "      <td>2025-10-07 11:15:00</td>\n",
       "    </tr>\n",
       "    <tr>\n",
       "      <th>9</th>\n",
       "      <td>Upper Villa Inlet</td>\n",
       "      <td>2025-09-08 13:00:00</td>\n",
       "    </tr>\n",
       "    <tr>\n",
       "      <th>10</th>\n",
       "      <td>Villa Park Outlet</td>\n",
       "      <td>2025-10-07 11:30:00</td>\n",
       "    </tr>\n",
       "    <tr>\n",
       "      <th>11</th>\n",
       "      <td>Willow Reserve - Inlet</td>\n",
       "      <td>2025-09-22 14:30:00</td>\n",
       "    </tr>\n",
       "  </tbody>\n",
       "</table>\n",
       "</div>"
      ],
      "text/plain": [
       "                Station Name                Date\n",
       "0           East Kittsondale 2025-10-07 11:30:00\n",
       "1          Villa Park Outlet 2025-10-07 11:30:00\n",
       "2    Willow Reserve - Outlet 2025-10-06 11:24:00\n",
       "3                 AHUG Inlet 2025-10-07 11:15:00\n",
       "4         CRWD Aldine Outlet 2025-10-07 11:15:00\n",
       "5              B-Dale Outlet 2025-10-07 11:30:00\n",
       "6            Como 3 | Como D 2025-09-22 13:45:00\n",
       "7           Como 7 | Como B5 2025-10-07 11:15:00\n",
       "8   Como B5 Outlet | Como B5 2025-10-07 11:15:00\n",
       "9          Upper Villa Inlet 2025-09-08 13:00:00\n",
       "10         Villa Park Outlet 2025-10-07 11:30:00\n",
       "11    Willow Reserve - Inlet 2025-09-22 14:30:00"
      ]
     },
     "execution_count": 115,
     "metadata": {},
     "output_type": "execute_result"
    }
   ],
   "source": [
    "most_recent_dates_list = []\n",
    "\n",
    "for ts_id in station_list['ts_id']:\n",
    "    url_csv = (\n",
    "        f\"http://waterdata.capitolregionwd.org/KiWIS/KiWIS?\"\n",
    "        f\"service=kisters&type=queryServices&request=getTimeseriesValues&\"\n",
    "        f\"datasource=0&format=csv&ts_id={ts_id}&from={three_months_ago}&to={today}\"\n",
    "    )\n",
    "    try:\n",
    "        df = pd.read_csv(url_csv, sep=';', skiprows=2, header=0)\n",
    "        df.rename(columns={'#Timestamp': 'Date'}, inplace=True)\n",
    "        most_recent_date = df[\"Date\"].max()\n",
    "        station_name = station_list[station_list[\"ts_id\"] == ts_id][\"station_name\"].iloc[0]\n",
    "    except:\n",
    "        print(f\"Error reading CSV for ts_id: {ts_id}\")\n",
    "        continue\n",
    "    most_recent_dates_list.append({\"Station Name\": station_name, \"Date\": most_recent_date})\n",
    "most_recent_dates_df = pd.DataFrame(most_recent_dates_list)\n",
    "most_recent_dates_df[\"Date\"] = pd.to_datetime(most_recent_dates_df[\"Date\"]).dt.tz_convert(None)\n",
    "most_recent_dates_df\n"
   ]
  },
  {
   "cell_type": "code",
   "execution_count": 39,
   "id": "ae1887e6",
   "metadata": {},
   "outputs": [
    {
     "name": "stdout",
     "output_type": "stream",
     "text": [
      "Willow Reserve - Outlet\n"
     ]
    }
   ],
   "source": [
    "print(station_list[station_list[\"ts_id\"] == ts_id][\"station_name\"].iloc[0])"
   ]
  },
  {
   "cell_type": "code",
   "execution_count": null,
   "id": "aee5b107",
   "metadata": {},
   "outputs": [],
   "source": []
  }
 ],
 "metadata": {
  "kernelspec": {
   "display_name": "Python 3",
   "language": "python",
   "name": "python3"
  },
  "language_info": {
   "codemirror_mode": {
    "name": "ipython",
    "version": 3
   },
   "file_extension": ".py",
   "mimetype": "text/x-python",
   "name": "python",
   "nbconvert_exporter": "python",
   "pygments_lexer": "ipython3",
   "version": "3.13.5"
  }
 },
 "nbformat": 4,
 "nbformat_minor": 5
}
